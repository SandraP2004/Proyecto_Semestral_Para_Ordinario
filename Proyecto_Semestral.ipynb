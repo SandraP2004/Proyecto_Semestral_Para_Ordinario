{
  "nbformat": 4,
  "nbformat_minor": 0,
  "metadata": {
    "colab": {
      "provenance": [],
      "mount_file_id": "1gswt2laIHqoqShk0ScoCps5CflzBVFtz",
      "authorship_tag": "ABX9TyNsgf5rzgdPq+TsexVj/zwU",
      "include_colab_link": true
    },
    "kernelspec": {
      "name": "python3",
      "display_name": "Python 3"
    },
    "language_info": {
      "name": "python"
    }
  },
  "cells": [
    {
      "cell_type": "markdown",
      "metadata": {
        "id": "view-in-github",
        "colab_type": "text"
      },
      "source": [
        "<a href=\"https://colab.research.google.com/github/SandraP2004/Proyecto_Semestral_Para_Ordinario/blob/main/Proyecto_Semestral.ipynb\" target=\"_parent\"><img src=\"https://colab.research.google.com/assets/colab-badge.svg\" alt=\"Open In Colab\"/></a>"
      ]
    },
    {
      "cell_type": "code",
      "source": [
        "import pandas as pd\n",
        "import sqlite3\n",
        "import plotly.express as px\n",
        "from google.colab import drive\n",
        "\n",
        "# Conectarse a Google Drive\n",
        "drive.mount('/content/drive')\n",
        "\n",
        "# Ruta al archivo CSV de tu Drive\n",
        "csv_file_path = '/content/drive/MyDrive/Programación II/Proyecto semestral/Levantamiento.csv'\n",
        "\n",
        "# Leer el archivo CSV con Pandas\n",
        "data = pd.read_csv(csv_file_path)\n",
        "\n",
        "# Mostrar el nombre de las columnas\n",
        "print(data.columns)\n",
        "\n",
        "# Crear la conexión a la base de datos SQLite\n",
        "db_conn = sqlite3.connect('/content/drive/MyDrive/Programación II/Proyecto semestral/Proyecto Semestral.db')\n",
        "\n",
        "data.to_sql('Levantamiento', db_conn, if_exists='replace', index=False)\n",
        "\n",
        "db_conn.close()\n",
        "\n",
        "# Volver a abrir la conexión para realizar consultas y graficar\n",
        "db_conn = sqlite3.connect('/content/drive/MyDrive/Programación II/Proyecto semestral/Proyecto Semestral.db')\n",
        "\n",
        "# Consulta SQL para obtener los datos de la tabla\n",
        "query = \"SELECT * FROM Levantamiento\"\n",
        "\n",
        "# Obtener los datos de la tabla en un DataFrame\n",
        "result = pd.read_sql(query, db_conn)\n",
        "\n",
        "# Cerrar la conexión a la base de datos\n",
        "db_conn.close()\n",
        "\n",
        "# Crear el gráfico 2D de dispersión con Plotly\n",
        "fig = px.scatter(result, x='X', y='Y', text='ID', title='Levantamiento Topográfico')\n",
        "\n",
        "# Reducir el tamaño del texto\n",
        "fig.update_traces(textfont=dict(size=9))\n",
        "\n",
        "# Añadir separación entre el texto y los puntos\n",
        "fig.update_traces(textposition='bottom center')\n",
        "\n",
        "# Mostrar el gráfico\n",
        "fig.show()\n",
        "\n",
        "# Crear el gráfico 3D de dispersión con Plotly\n",
        "fig = px.scatter_3d(result, x='X', y='Y', z='Z', text='ID', title='Levantamiento Topográfico 3D')\n",
        "\n",
        "# Reducir el tamaño del texto\n",
        "fig.update_traces(textfont=dict(size=9))\n",
        "\n",
        "# Añadir separación entre el texto y los puntos\n",
        "fig.update_traces(textposition='bottom center')\n",
        "\n",
        "# Mostrar el gráfico\n",
        "fig.show()"
      ],
      "metadata": {
        "colab": {
          "base_uri": "https://localhost:8080/",
          "height": 1000
        },
        "id": "zQ4VJwAhOrt0",
        "outputId": "d9e93ad6-28b4-405e-bd71-7be9fb6fa6be"
      },
      "execution_count": null,
      "outputs": [
        {
          "output_type": "stream",
          "name": "stdout",
          "text": [
            "Drive already mounted at /content/drive; to attempt to forcibly remount, call drive.mount(\"/content/drive\", force_remount=True).\n",
            "Index(['PUNTO', 'X', 'Y', 'Z', 'ID'], dtype='object')\n"
          ]
        },
        {
          "output_type": "display_data",
          "data": {
            "text/html": [
              "<html>\n",
              "<head><meta charset=\"utf-8\" /></head>\n",
              "<body>\n",
              "    <div>            <script src=\"https://cdnjs.cloudflare.com/ajax/libs/mathjax/2.7.5/MathJax.js?config=TeX-AMS-MML_SVG\"></script><script type=\"text/javascript\">if (window.MathJax && window.MathJax.Hub && window.MathJax.Hub.Config) {window.MathJax.Hub.Config({SVG: {font: \"STIX-Web\"}});}</script>                <script type=\"text/javascript\">window.PlotlyConfig = {MathJaxConfig: 'local'};</script>\n",
              "        <script charset=\"utf-8\" src=\"https://cdn.plot.ly/plotly-2.24.1.min.js\"></script>                <div id=\"9d083e83-5e3d-4bf6-af24-133a7ba7a876\" class=\"plotly-graph-div\" style=\"height:525px; width:100%;\"></div>            <script type=\"text/javascript\">                                    window.PLOTLYENV=window.PLOTLYENV || {};                                    if (document.getElementById(\"9d083e83-5e3d-4bf6-af24-133a7ba7a876\")) {                    Plotly.newPlot(                        \"9d083e83-5e3d-4bf6-af24-133a7ba7a876\",                        [{\"hovertemplate\":\"X=%{x}\\u003cbr\\u003eY=%{y}\\u003cbr\\u003eID=%{text}\\u003cextra\\u003e\\u003c\\u002fextra\\u003e\",\"legendgroup\":\"\",\"marker\":{\"color\":\"#636efa\",\"symbol\":\"circle\"},\"mode\":\"markers+text\",\"name\":\"\",\"orientation\":\"v\",\"showlegend\":false,\"text\":[\"EST1\",\"EST2\",\"PCR1\",\"PCR2\",\"CFE\",\"LIN\",\"TN\",\"TN\",\"TN\",\"ARE\",\"RIO\",\"RIO\",\"TN\",\"TN\",\"TN\",\"TN\",\"TN\",\"TN\",\"TN\",\"TN\",\"TN\",\"LIN\",\"LIN\",\"TN\",\"TN\",\"ARE\",\"ARE\",\"ARE\",\"ARE\",\"ARE\",\"ARE\",\"ARE\",\"TN\",\"TN\",\"TN\",\"ARE\",\"ARE\",\"RIO\",\"RIO\",\"ARE\",\"ARE\",\"ARE\",\"ARE\",\"TN\",\"TN\",\"ARE\",\"ARE\",\"ARE\",\"ARE\",\"ARE\",\"ARE\",\"ARE\",\"ARE\",\"ARE\",\"TN\",\"TN\",\"TN\",\"TN\",\"TN\",\"LIN\",\"LIN\",\"TN\",\"TN\",\"TN\",\"TN\",\"ARE\",\"ARE\",\"ARE\",\"ARE\",\"ARE\",\"TN\",\"ARE\",\"ARE\",\"ARE\",\"RIO\",\"ARE\",\"ARE\",\"ARE\",\"ARE\",\"ARE\",\"ARE\",\"ARE\",\"ARE\",\"ARE\",\"ARE\",\"ARE\",\"ARE\",\"ARE\",\"ARE\",\"ARE\",\"ARE\",\"ARE\",\"ARE\",\"ARE\",\"ARE\",\"ARE\",\"ARE\",\"ARE\",\"ARE\",\"ARE\",\"ARE\",\"ARE\",\"ARE\",\"ARE\",\"ARE\",\"ARE\",\"ARE\",\"ARE\",\"ARE\",\"ARE\",\"ARE\",\"ARE\"],\"x\":[1000.0,1069.506,987.762,1042.88,974.72,972.083,978.314,983.72,991.796,992.318,992.858,1005.931,1005.582,1005.11,1002.672,1000.826,995.454,991.827,989.311,988.657,987.543,987.46,1004.676,1005.433,1005.581,1009.681,1014.025,1016.705,1019.572,1022.197,1022.409,1023.725,1023.825,1025.16,1026.534,1027.146,1027.105,1027.027,1045.919,1045.836,1045.755,1045.283,1045.094,1042.507,1039.82,1039.047,1035.797,1035.545,1030.869,1028.992,1028.104,1027.866,1026.806,1023.25,1022.592,1019.598,1018.89,1017.311,1016.723,1015.839,1031.753,1032.341,1034.788,1036.623,1039.201,1041.769,1044.095,1049.408,1049.746,1053.05,1055.506,1057.113,1058.34,1058.679,1058.886,1004.8,1005.79,1005.766,1006.381,1007.686,1009.475,1009.426,1008.007,1008.571,1008.242,1007.637,1006.813,1006.56,1005.884,1004.993,1007.602,1005.646,1005.537,1004.684,1004.029,1003.138,1001.889,1001.438,1000.932,1000.026,996.87,996.657,996.48,998.545,999.802,998.742,997.956,996.972,996.353,996.639,994.922,995.353],\"xaxis\":\"x\",\"y\":[1000.0,1023.088,1020.114,1051.027,1008.646,1011.533,1001.779,989.649,973.201,970.797,969.943,972.828,974.308,976.343,984.985,991.161,1003.358,1009.364,1015.392,1016.962,1019.091,1021.955,1032.747,1031.026,1030.053,1022.208,1013.978,1009.238,1004.001,998.068,997.468,992.743,992.41,986.72,981.788,978.799,977.98,977.628,977.145,978.089,978.852,980.294,982.215,989.952,998.478,1000.635,1005.799,1006.464,1014.656,1018.323,1020.121,1020.92,1023.53,1029.316,1029.948,1034.613,1035.575,1037.784,1038.342,1039.631,1049.515,1048.338,1044.496,1042.366,1038.028,1033.456,1028.434,1016.238,1013.955,1006.467,997.796,984.99,983.204,981.564,981.017,993.059,992.974,992.091,993.592,991.706,991.544,992.663,993.255,994.941,997.524,997.178,996.311,998.842,998.563,997.686,1001.839,1002.181,1006.536,1005.879,1008.749,1008.072,1007.645,1011.488,1011.142,1010.115,1008.602,1009.818,1010.589,1010.805,1011.488,1013.503,1015.581,1016.451,1014.6,1013.583,1012.701,1012.104],\"yaxis\":\"y\",\"type\":\"scatter\",\"textfont\":{\"size\":9},\"textposition\":\"bottom center\"}],                        {\"template\":{\"data\":{\"histogram2dcontour\":[{\"type\":\"histogram2dcontour\",\"colorbar\":{\"outlinewidth\":0,\"ticks\":\"\"},\"colorscale\":[[0.0,\"#0d0887\"],[0.1111111111111111,\"#46039f\"],[0.2222222222222222,\"#7201a8\"],[0.3333333333333333,\"#9c179e\"],[0.4444444444444444,\"#bd3786\"],[0.5555555555555556,\"#d8576b\"],[0.6666666666666666,\"#ed7953\"],[0.7777777777777778,\"#fb9f3a\"],[0.8888888888888888,\"#fdca26\"],[1.0,\"#f0f921\"]]}],\"choropleth\":[{\"type\":\"choropleth\",\"colorbar\":{\"outlinewidth\":0,\"ticks\":\"\"}}],\"histogram2d\":[{\"type\":\"histogram2d\",\"colorbar\":{\"outlinewidth\":0,\"ticks\":\"\"},\"colorscale\":[[0.0,\"#0d0887\"],[0.1111111111111111,\"#46039f\"],[0.2222222222222222,\"#7201a8\"],[0.3333333333333333,\"#9c179e\"],[0.4444444444444444,\"#bd3786\"],[0.5555555555555556,\"#d8576b\"],[0.6666666666666666,\"#ed7953\"],[0.7777777777777778,\"#fb9f3a\"],[0.8888888888888888,\"#fdca26\"],[1.0,\"#f0f921\"]]}],\"heatmap\":[{\"type\":\"heatmap\",\"colorbar\":{\"outlinewidth\":0,\"ticks\":\"\"},\"colorscale\":[[0.0,\"#0d0887\"],[0.1111111111111111,\"#46039f\"],[0.2222222222222222,\"#7201a8\"],[0.3333333333333333,\"#9c179e\"],[0.4444444444444444,\"#bd3786\"],[0.5555555555555556,\"#d8576b\"],[0.6666666666666666,\"#ed7953\"],[0.7777777777777778,\"#fb9f3a\"],[0.8888888888888888,\"#fdca26\"],[1.0,\"#f0f921\"]]}],\"heatmapgl\":[{\"type\":\"heatmapgl\",\"colorbar\":{\"outlinewidth\":0,\"ticks\":\"\"},\"colorscale\":[[0.0,\"#0d0887\"],[0.1111111111111111,\"#46039f\"],[0.2222222222222222,\"#7201a8\"],[0.3333333333333333,\"#9c179e\"],[0.4444444444444444,\"#bd3786\"],[0.5555555555555556,\"#d8576b\"],[0.6666666666666666,\"#ed7953\"],[0.7777777777777778,\"#fb9f3a\"],[0.8888888888888888,\"#fdca26\"],[1.0,\"#f0f921\"]]}],\"contourcarpet\":[{\"type\":\"contourcarpet\",\"colorbar\":{\"outlinewidth\":0,\"ticks\":\"\"}}],\"contour\":[{\"type\":\"contour\",\"colorbar\":{\"outlinewidth\":0,\"ticks\":\"\"},\"colorscale\":[[0.0,\"#0d0887\"],[0.1111111111111111,\"#46039f\"],[0.2222222222222222,\"#7201a8\"],[0.3333333333333333,\"#9c179e\"],[0.4444444444444444,\"#bd3786\"],[0.5555555555555556,\"#d8576b\"],[0.6666666666666666,\"#ed7953\"],[0.7777777777777778,\"#fb9f3a\"],[0.8888888888888888,\"#fdca26\"],[1.0,\"#f0f921\"]]}],\"surface\":[{\"type\":\"surface\",\"colorbar\":{\"outlinewidth\":0,\"ticks\":\"\"},\"colorscale\":[[0.0,\"#0d0887\"],[0.1111111111111111,\"#46039f\"],[0.2222222222222222,\"#7201a8\"],[0.3333333333333333,\"#9c179e\"],[0.4444444444444444,\"#bd3786\"],[0.5555555555555556,\"#d8576b\"],[0.6666666666666666,\"#ed7953\"],[0.7777777777777778,\"#fb9f3a\"],[0.8888888888888888,\"#fdca26\"],[1.0,\"#f0f921\"]]}],\"mesh3d\":[{\"type\":\"mesh3d\",\"colorbar\":{\"outlinewidth\":0,\"ticks\":\"\"}}],\"scatter\":[{\"fillpattern\":{\"fillmode\":\"overlay\",\"size\":10,\"solidity\":0.2},\"type\":\"scatter\"}],\"parcoords\":[{\"type\":\"parcoords\",\"line\":{\"colorbar\":{\"outlinewidth\":0,\"ticks\":\"\"}}}],\"scatterpolargl\":[{\"type\":\"scatterpolargl\",\"marker\":{\"colorbar\":{\"outlinewidth\":0,\"ticks\":\"\"}}}],\"bar\":[{\"error_x\":{\"color\":\"#2a3f5f\"},\"error_y\":{\"color\":\"#2a3f5f\"},\"marker\":{\"line\":{\"color\":\"#E5ECF6\",\"width\":0.5},\"pattern\":{\"fillmode\":\"overlay\",\"size\":10,\"solidity\":0.2}},\"type\":\"bar\"}],\"scattergeo\":[{\"type\":\"scattergeo\",\"marker\":{\"colorbar\":{\"outlinewidth\":0,\"ticks\":\"\"}}}],\"scatterpolar\":[{\"type\":\"scatterpolar\",\"marker\":{\"colorbar\":{\"outlinewidth\":0,\"ticks\":\"\"}}}],\"histogram\":[{\"marker\":{\"pattern\":{\"fillmode\":\"overlay\",\"size\":10,\"solidity\":0.2}},\"type\":\"histogram\"}],\"scattergl\":[{\"type\":\"scattergl\",\"marker\":{\"colorbar\":{\"outlinewidth\":0,\"ticks\":\"\"}}}],\"scatter3d\":[{\"type\":\"scatter3d\",\"line\":{\"colorbar\":{\"outlinewidth\":0,\"ticks\":\"\"}},\"marker\":{\"colorbar\":{\"outlinewidth\":0,\"ticks\":\"\"}}}],\"scattermapbox\":[{\"type\":\"scattermapbox\",\"marker\":{\"colorbar\":{\"outlinewidth\":0,\"ticks\":\"\"}}}],\"scatterternary\":[{\"type\":\"scatterternary\",\"marker\":{\"colorbar\":{\"outlinewidth\":0,\"ticks\":\"\"}}}],\"scattercarpet\":[{\"type\":\"scattercarpet\",\"marker\":{\"colorbar\":{\"outlinewidth\":0,\"ticks\":\"\"}}}],\"carpet\":[{\"aaxis\":{\"endlinecolor\":\"#2a3f5f\",\"gridcolor\":\"white\",\"linecolor\":\"white\",\"minorgridcolor\":\"white\",\"startlinecolor\":\"#2a3f5f\"},\"baxis\":{\"endlinecolor\":\"#2a3f5f\",\"gridcolor\":\"white\",\"linecolor\":\"white\",\"minorgridcolor\":\"white\",\"startlinecolor\":\"#2a3f5f\"},\"type\":\"carpet\"}],\"table\":[{\"cells\":{\"fill\":{\"color\":\"#EBF0F8\"},\"line\":{\"color\":\"white\"}},\"header\":{\"fill\":{\"color\":\"#C8D4E3\"},\"line\":{\"color\":\"white\"}},\"type\":\"table\"}],\"barpolar\":[{\"marker\":{\"line\":{\"color\":\"#E5ECF6\",\"width\":0.5},\"pattern\":{\"fillmode\":\"overlay\",\"size\":10,\"solidity\":0.2}},\"type\":\"barpolar\"}],\"pie\":[{\"automargin\":true,\"type\":\"pie\"}]},\"layout\":{\"autotypenumbers\":\"strict\",\"colorway\":[\"#636efa\",\"#EF553B\",\"#00cc96\",\"#ab63fa\",\"#FFA15A\",\"#19d3f3\",\"#FF6692\",\"#B6E880\",\"#FF97FF\",\"#FECB52\"],\"font\":{\"color\":\"#2a3f5f\"},\"hovermode\":\"closest\",\"hoverlabel\":{\"align\":\"left\"},\"paper_bgcolor\":\"white\",\"plot_bgcolor\":\"#E5ECF6\",\"polar\":{\"bgcolor\":\"#E5ECF6\",\"angularaxis\":{\"gridcolor\":\"white\",\"linecolor\":\"white\",\"ticks\":\"\"},\"radialaxis\":{\"gridcolor\":\"white\",\"linecolor\":\"white\",\"ticks\":\"\"}},\"ternary\":{\"bgcolor\":\"#E5ECF6\",\"aaxis\":{\"gridcolor\":\"white\",\"linecolor\":\"white\",\"ticks\":\"\"},\"baxis\":{\"gridcolor\":\"white\",\"linecolor\":\"white\",\"ticks\":\"\"},\"caxis\":{\"gridcolor\":\"white\",\"linecolor\":\"white\",\"ticks\":\"\"}},\"coloraxis\":{\"colorbar\":{\"outlinewidth\":0,\"ticks\":\"\"}},\"colorscale\":{\"sequential\":[[0.0,\"#0d0887\"],[0.1111111111111111,\"#46039f\"],[0.2222222222222222,\"#7201a8\"],[0.3333333333333333,\"#9c179e\"],[0.4444444444444444,\"#bd3786\"],[0.5555555555555556,\"#d8576b\"],[0.6666666666666666,\"#ed7953\"],[0.7777777777777778,\"#fb9f3a\"],[0.8888888888888888,\"#fdca26\"],[1.0,\"#f0f921\"]],\"sequentialminus\":[[0.0,\"#0d0887\"],[0.1111111111111111,\"#46039f\"],[0.2222222222222222,\"#7201a8\"],[0.3333333333333333,\"#9c179e\"],[0.4444444444444444,\"#bd3786\"],[0.5555555555555556,\"#d8576b\"],[0.6666666666666666,\"#ed7953\"],[0.7777777777777778,\"#fb9f3a\"],[0.8888888888888888,\"#fdca26\"],[1.0,\"#f0f921\"]],\"diverging\":[[0,\"#8e0152\"],[0.1,\"#c51b7d\"],[0.2,\"#de77ae\"],[0.3,\"#f1b6da\"],[0.4,\"#fde0ef\"],[0.5,\"#f7f7f7\"],[0.6,\"#e6f5d0\"],[0.7,\"#b8e186\"],[0.8,\"#7fbc41\"],[0.9,\"#4d9221\"],[1,\"#276419\"]]},\"xaxis\":{\"gridcolor\":\"white\",\"linecolor\":\"white\",\"ticks\":\"\",\"title\":{\"standoff\":15},\"zerolinecolor\":\"white\",\"automargin\":true,\"zerolinewidth\":2},\"yaxis\":{\"gridcolor\":\"white\",\"linecolor\":\"white\",\"ticks\":\"\",\"title\":{\"standoff\":15},\"zerolinecolor\":\"white\",\"automargin\":true,\"zerolinewidth\":2},\"scene\":{\"xaxis\":{\"backgroundcolor\":\"#E5ECF6\",\"gridcolor\":\"white\",\"linecolor\":\"white\",\"showbackground\":true,\"ticks\":\"\",\"zerolinecolor\":\"white\",\"gridwidth\":2},\"yaxis\":{\"backgroundcolor\":\"#E5ECF6\",\"gridcolor\":\"white\",\"linecolor\":\"white\",\"showbackground\":true,\"ticks\":\"\",\"zerolinecolor\":\"white\",\"gridwidth\":2},\"zaxis\":{\"backgroundcolor\":\"#E5ECF6\",\"gridcolor\":\"white\",\"linecolor\":\"white\",\"showbackground\":true,\"ticks\":\"\",\"zerolinecolor\":\"white\",\"gridwidth\":2}},\"shapedefaults\":{\"line\":{\"color\":\"#2a3f5f\"}},\"annotationdefaults\":{\"arrowcolor\":\"#2a3f5f\",\"arrowhead\":0,\"arrowwidth\":1},\"geo\":{\"bgcolor\":\"white\",\"landcolor\":\"#E5ECF6\",\"subunitcolor\":\"white\",\"showland\":true,\"showlakes\":true,\"lakecolor\":\"white\"},\"title\":{\"x\":0.05},\"mapbox\":{\"style\":\"light\"}}},\"xaxis\":{\"anchor\":\"y\",\"domain\":[0.0,1.0],\"title\":{\"text\":\"X\"}},\"yaxis\":{\"anchor\":\"x\",\"domain\":[0.0,1.0],\"title\":{\"text\":\"Y\"}},\"legend\":{\"tracegroupgap\":0},\"title\":{\"text\":\"Levantamiento Topogr\\u00e1fico\"}},                        {\"responsive\": true}                    ).then(function(){\n",
              "                            \n",
              "var gd = document.getElementById('9d083e83-5e3d-4bf6-af24-133a7ba7a876');\n",
              "var x = new MutationObserver(function (mutations, observer) {{\n",
              "        var display = window.getComputedStyle(gd).display;\n",
              "        if (!display || display === 'none') {{\n",
              "            console.log([gd, 'removed!']);\n",
              "            Plotly.purge(gd);\n",
              "            observer.disconnect();\n",
              "        }}\n",
              "}});\n",
              "\n",
              "// Listen for the removal of the full notebook cells\n",
              "var notebookContainer = gd.closest('#notebook-container');\n",
              "if (notebookContainer) {{\n",
              "    x.observe(notebookContainer, {childList: true});\n",
              "}}\n",
              "\n",
              "// Listen for the clearing of the current output cell\n",
              "var outputEl = gd.closest('.output');\n",
              "if (outputEl) {{\n",
              "    x.observe(outputEl, {childList: true});\n",
              "}}\n",
              "\n",
              "                        })                };                            </script>        </div>\n",
              "</body>\n",
              "</html>"
            ]
          },
          "metadata": {}
        },
        {
          "output_type": "display_data",
          "data": {
            "text/html": [
              "<html>\n",
              "<head><meta charset=\"utf-8\" /></head>\n",
              "<body>\n",
              "    <div>            <script src=\"https://cdnjs.cloudflare.com/ajax/libs/mathjax/2.7.5/MathJax.js?config=TeX-AMS-MML_SVG\"></script><script type=\"text/javascript\">if (window.MathJax && window.MathJax.Hub && window.MathJax.Hub.Config) {window.MathJax.Hub.Config({SVG: {font: \"STIX-Web\"}});}</script>                <script type=\"text/javascript\">window.PlotlyConfig = {MathJaxConfig: 'local'};</script>\n",
              "        <script charset=\"utf-8\" src=\"https://cdn.plot.ly/plotly-2.24.1.min.js\"></script>                <div id=\"6f1d4648-a51b-4f95-b0d3-e44702250243\" class=\"plotly-graph-div\" style=\"height:525px; width:100%;\"></div>            <script type=\"text/javascript\">                                    window.PLOTLYENV=window.PLOTLYENV || {};                                    if (document.getElementById(\"6f1d4648-a51b-4f95-b0d3-e44702250243\")) {                    Plotly.newPlot(                        \"6f1d4648-a51b-4f95-b0d3-e44702250243\",                        [{\"hovertemplate\":\"X=%{x}\\u003cbr\\u003eY=%{y}\\u003cbr\\u003eZ=%{z}\\u003cbr\\u003eID=%{text}\\u003cextra\\u003e\\u003c\\u002fextra\\u003e\",\"legendgroup\":\"\",\"marker\":{\"color\":\"#636efa\",\"symbol\":\"circle\"},\"mode\":\"markers+text\",\"name\":\"\",\"scene\":\"scene\",\"showlegend\":false,\"text\":[\"EST1\",\"EST2\",\"PCR1\",\"PCR2\",\"CFE\",\"LIN\",\"TN\",\"TN\",\"TN\",\"ARE\",\"RIO\",\"RIO\",\"TN\",\"TN\",\"TN\",\"TN\",\"TN\",\"TN\",\"TN\",\"TN\",\"TN\",\"LIN\",\"LIN\",\"TN\",\"TN\",\"ARE\",\"ARE\",\"ARE\",\"ARE\",\"ARE\",\"ARE\",\"ARE\",\"TN\",\"TN\",\"TN\",\"ARE\",\"ARE\",\"RIO\",\"RIO\",\"ARE\",\"ARE\",\"ARE\",\"ARE\",\"TN\",\"TN\",\"ARE\",\"ARE\",\"ARE\",\"ARE\",\"ARE\",\"ARE\",\"ARE\",\"ARE\",\"ARE\",\"TN\",\"TN\",\"TN\",\"TN\",\"TN\",\"LIN\",\"LIN\",\"TN\",\"TN\",\"TN\",\"TN\",\"ARE\",\"ARE\",\"ARE\",\"ARE\",\"ARE\",\"TN\",\"ARE\",\"ARE\",\"ARE\",\"RIO\",\"ARE\",\"ARE\",\"ARE\",\"ARE\",\"ARE\",\"ARE\",\"ARE\",\"ARE\",\"ARE\",\"ARE\",\"ARE\",\"ARE\",\"ARE\",\"ARE\",\"ARE\",\"ARE\",\"ARE\",\"ARE\",\"ARE\",\"ARE\",\"ARE\",\"ARE\",\"ARE\",\"ARE\",\"ARE\",\"ARE\",\"ARE\",\"ARE\",\"ARE\",\"ARE\",\"ARE\",\"ARE\",\"ARE\",\"ARE\",\"ARE\",\"ARE\",\"ARE\"],\"x\":[1000.0,1069.506,987.762,1042.88,974.72,972.083,978.314,983.72,991.796,992.318,992.858,1005.931,1005.582,1005.11,1002.672,1000.826,995.454,991.827,989.311,988.657,987.543,987.46,1004.676,1005.433,1005.581,1009.681,1014.025,1016.705,1019.572,1022.197,1022.409,1023.725,1023.825,1025.16,1026.534,1027.146,1027.105,1027.027,1045.919,1045.836,1045.755,1045.283,1045.094,1042.507,1039.82,1039.047,1035.797,1035.545,1030.869,1028.992,1028.104,1027.866,1026.806,1023.25,1022.592,1019.598,1018.89,1017.311,1016.723,1015.839,1031.753,1032.341,1034.788,1036.623,1039.201,1041.769,1044.095,1049.408,1049.746,1053.05,1055.506,1057.113,1058.34,1058.679,1058.886,1004.8,1005.79,1005.766,1006.381,1007.686,1009.475,1009.426,1008.007,1008.571,1008.242,1007.637,1006.813,1006.56,1005.884,1004.993,1007.602,1005.646,1005.537,1004.684,1004.029,1003.138,1001.889,1001.438,1000.932,1000.026,996.87,996.657,996.48,998.545,999.802,998.742,997.956,996.972,996.353,996.639,994.922,995.353],\"y\":[1000.0,1023.088,1020.114,1051.027,1008.646,1011.533,1001.779,989.649,973.201,970.797,969.943,972.828,974.308,976.343,984.985,991.161,1003.358,1009.364,1015.392,1016.962,1019.091,1021.955,1032.747,1031.026,1030.053,1022.208,1013.978,1009.238,1004.001,998.068,997.468,992.743,992.41,986.72,981.788,978.799,977.98,977.628,977.145,978.089,978.852,980.294,982.215,989.952,998.478,1000.635,1005.799,1006.464,1014.656,1018.323,1020.121,1020.92,1023.53,1029.316,1029.948,1034.613,1035.575,1037.784,1038.342,1039.631,1049.515,1048.338,1044.496,1042.366,1038.028,1033.456,1028.434,1016.238,1013.955,1006.467,997.796,984.99,983.204,981.564,981.017,993.059,992.974,992.091,993.592,991.706,991.544,992.663,993.255,994.941,997.524,997.178,996.311,998.842,998.563,997.686,1001.839,1002.181,1006.536,1005.879,1008.749,1008.072,1007.645,1011.488,1011.142,1010.115,1008.602,1009.818,1010.589,1010.805,1011.488,1013.503,1015.581,1016.451,1014.6,1013.583,1012.701,1012.104],\"z\":[500.0,500.604,500.451,500.573,500.678,500.144,499.675,500.069,500.927,501.262,500.664,500.657,501.368,500.988,500.396,500.19,499.837,499.873,499.879,499.647,500.334,500.412,500.73,500.614,500.003,500.031,500.334,500.472,500.715,500.743,500.526,500.496,500.627,500.793,500.933,501.724,501.163,500.849,500.868,501.467,501.628,502.427,501.337,500.892,500.704,500.69,500.652,500.838,500.446,500.262,500.25,500.126,500.351,500.247,500.136,499.943,500.273,500.407,500.688,500.732,500.879,500.779,500.104,500.217,500.263,500.245,500.299,500.464,500.753,500.774,500.858,501.321,502.525,501.709,500.902,500.168,500.432,500.265,500.159,500.41,500.403,500.71,500.803,500.678,500.622,500.781,500.23,500.597,500.857,500.133,500.502,499.986,500.299,499.906,500.263,500.509,499.845,500.034,500.447,499.811,499.803,499.907,500.167,500.214,500.354,500.159,500.205,499.883,499.881,500.081,499.888,500.075],\"type\":\"scatter3d\",\"textfont\":{\"size\":9},\"textposition\":\"bottom center\"}],                        {\"template\":{\"data\":{\"histogram2dcontour\":[{\"type\":\"histogram2dcontour\",\"colorbar\":{\"outlinewidth\":0,\"ticks\":\"\"},\"colorscale\":[[0.0,\"#0d0887\"],[0.1111111111111111,\"#46039f\"],[0.2222222222222222,\"#7201a8\"],[0.3333333333333333,\"#9c179e\"],[0.4444444444444444,\"#bd3786\"],[0.5555555555555556,\"#d8576b\"],[0.6666666666666666,\"#ed7953\"],[0.7777777777777778,\"#fb9f3a\"],[0.8888888888888888,\"#fdca26\"],[1.0,\"#f0f921\"]]}],\"choropleth\":[{\"type\":\"choropleth\",\"colorbar\":{\"outlinewidth\":0,\"ticks\":\"\"}}],\"histogram2d\":[{\"type\":\"histogram2d\",\"colorbar\":{\"outlinewidth\":0,\"ticks\":\"\"},\"colorscale\":[[0.0,\"#0d0887\"],[0.1111111111111111,\"#46039f\"],[0.2222222222222222,\"#7201a8\"],[0.3333333333333333,\"#9c179e\"],[0.4444444444444444,\"#bd3786\"],[0.5555555555555556,\"#d8576b\"],[0.6666666666666666,\"#ed7953\"],[0.7777777777777778,\"#fb9f3a\"],[0.8888888888888888,\"#fdca26\"],[1.0,\"#f0f921\"]]}],\"heatmap\":[{\"type\":\"heatmap\",\"colorbar\":{\"outlinewidth\":0,\"ticks\":\"\"},\"colorscale\":[[0.0,\"#0d0887\"],[0.1111111111111111,\"#46039f\"],[0.2222222222222222,\"#7201a8\"],[0.3333333333333333,\"#9c179e\"],[0.4444444444444444,\"#bd3786\"],[0.5555555555555556,\"#d8576b\"],[0.6666666666666666,\"#ed7953\"],[0.7777777777777778,\"#fb9f3a\"],[0.8888888888888888,\"#fdca26\"],[1.0,\"#f0f921\"]]}],\"heatmapgl\":[{\"type\":\"heatmapgl\",\"colorbar\":{\"outlinewidth\":0,\"ticks\":\"\"},\"colorscale\":[[0.0,\"#0d0887\"],[0.1111111111111111,\"#46039f\"],[0.2222222222222222,\"#7201a8\"],[0.3333333333333333,\"#9c179e\"],[0.4444444444444444,\"#bd3786\"],[0.5555555555555556,\"#d8576b\"],[0.6666666666666666,\"#ed7953\"],[0.7777777777777778,\"#fb9f3a\"],[0.8888888888888888,\"#fdca26\"],[1.0,\"#f0f921\"]]}],\"contourcarpet\":[{\"type\":\"contourcarpet\",\"colorbar\":{\"outlinewidth\":0,\"ticks\":\"\"}}],\"contour\":[{\"type\":\"contour\",\"colorbar\":{\"outlinewidth\":0,\"ticks\":\"\"},\"colorscale\":[[0.0,\"#0d0887\"],[0.1111111111111111,\"#46039f\"],[0.2222222222222222,\"#7201a8\"],[0.3333333333333333,\"#9c179e\"],[0.4444444444444444,\"#bd3786\"],[0.5555555555555556,\"#d8576b\"],[0.6666666666666666,\"#ed7953\"],[0.7777777777777778,\"#fb9f3a\"],[0.8888888888888888,\"#fdca26\"],[1.0,\"#f0f921\"]]}],\"surface\":[{\"type\":\"surface\",\"colorbar\":{\"outlinewidth\":0,\"ticks\":\"\"},\"colorscale\":[[0.0,\"#0d0887\"],[0.1111111111111111,\"#46039f\"],[0.2222222222222222,\"#7201a8\"],[0.3333333333333333,\"#9c179e\"],[0.4444444444444444,\"#bd3786\"],[0.5555555555555556,\"#d8576b\"],[0.6666666666666666,\"#ed7953\"],[0.7777777777777778,\"#fb9f3a\"],[0.8888888888888888,\"#fdca26\"],[1.0,\"#f0f921\"]]}],\"mesh3d\":[{\"type\":\"mesh3d\",\"colorbar\":{\"outlinewidth\":0,\"ticks\":\"\"}}],\"scatter\":[{\"fillpattern\":{\"fillmode\":\"overlay\",\"size\":10,\"solidity\":0.2},\"type\":\"scatter\"}],\"parcoords\":[{\"type\":\"parcoords\",\"line\":{\"colorbar\":{\"outlinewidth\":0,\"ticks\":\"\"}}}],\"scatterpolargl\":[{\"type\":\"scatterpolargl\",\"marker\":{\"colorbar\":{\"outlinewidth\":0,\"ticks\":\"\"}}}],\"bar\":[{\"error_x\":{\"color\":\"#2a3f5f\"},\"error_y\":{\"color\":\"#2a3f5f\"},\"marker\":{\"line\":{\"color\":\"#E5ECF6\",\"width\":0.5},\"pattern\":{\"fillmode\":\"overlay\",\"size\":10,\"solidity\":0.2}},\"type\":\"bar\"}],\"scattergeo\":[{\"type\":\"scattergeo\",\"marker\":{\"colorbar\":{\"outlinewidth\":0,\"ticks\":\"\"}}}],\"scatterpolar\":[{\"type\":\"scatterpolar\",\"marker\":{\"colorbar\":{\"outlinewidth\":0,\"ticks\":\"\"}}}],\"histogram\":[{\"marker\":{\"pattern\":{\"fillmode\":\"overlay\",\"size\":10,\"solidity\":0.2}},\"type\":\"histogram\"}],\"scattergl\":[{\"type\":\"scattergl\",\"marker\":{\"colorbar\":{\"outlinewidth\":0,\"ticks\":\"\"}}}],\"scatter3d\":[{\"type\":\"scatter3d\",\"line\":{\"colorbar\":{\"outlinewidth\":0,\"ticks\":\"\"}},\"marker\":{\"colorbar\":{\"outlinewidth\":0,\"ticks\":\"\"}}}],\"scattermapbox\":[{\"type\":\"scattermapbox\",\"marker\":{\"colorbar\":{\"outlinewidth\":0,\"ticks\":\"\"}}}],\"scatterternary\":[{\"type\":\"scatterternary\",\"marker\":{\"colorbar\":{\"outlinewidth\":0,\"ticks\":\"\"}}}],\"scattercarpet\":[{\"type\":\"scattercarpet\",\"marker\":{\"colorbar\":{\"outlinewidth\":0,\"ticks\":\"\"}}}],\"carpet\":[{\"aaxis\":{\"endlinecolor\":\"#2a3f5f\",\"gridcolor\":\"white\",\"linecolor\":\"white\",\"minorgridcolor\":\"white\",\"startlinecolor\":\"#2a3f5f\"},\"baxis\":{\"endlinecolor\":\"#2a3f5f\",\"gridcolor\":\"white\",\"linecolor\":\"white\",\"minorgridcolor\":\"white\",\"startlinecolor\":\"#2a3f5f\"},\"type\":\"carpet\"}],\"table\":[{\"cells\":{\"fill\":{\"color\":\"#EBF0F8\"},\"line\":{\"color\":\"white\"}},\"header\":{\"fill\":{\"color\":\"#C8D4E3\"},\"line\":{\"color\":\"white\"}},\"type\":\"table\"}],\"barpolar\":[{\"marker\":{\"line\":{\"color\":\"#E5ECF6\",\"width\":0.5},\"pattern\":{\"fillmode\":\"overlay\",\"size\":10,\"solidity\":0.2}},\"type\":\"barpolar\"}],\"pie\":[{\"automargin\":true,\"type\":\"pie\"}]},\"layout\":{\"autotypenumbers\":\"strict\",\"colorway\":[\"#636efa\",\"#EF553B\",\"#00cc96\",\"#ab63fa\",\"#FFA15A\",\"#19d3f3\",\"#FF6692\",\"#B6E880\",\"#FF97FF\",\"#FECB52\"],\"font\":{\"color\":\"#2a3f5f\"},\"hovermode\":\"closest\",\"hoverlabel\":{\"align\":\"left\"},\"paper_bgcolor\":\"white\",\"plot_bgcolor\":\"#E5ECF6\",\"polar\":{\"bgcolor\":\"#E5ECF6\",\"angularaxis\":{\"gridcolor\":\"white\",\"linecolor\":\"white\",\"ticks\":\"\"},\"radialaxis\":{\"gridcolor\":\"white\",\"linecolor\":\"white\",\"ticks\":\"\"}},\"ternary\":{\"bgcolor\":\"#E5ECF6\",\"aaxis\":{\"gridcolor\":\"white\",\"linecolor\":\"white\",\"ticks\":\"\"},\"baxis\":{\"gridcolor\":\"white\",\"linecolor\":\"white\",\"ticks\":\"\"},\"caxis\":{\"gridcolor\":\"white\",\"linecolor\":\"white\",\"ticks\":\"\"}},\"coloraxis\":{\"colorbar\":{\"outlinewidth\":0,\"ticks\":\"\"}},\"colorscale\":{\"sequential\":[[0.0,\"#0d0887\"],[0.1111111111111111,\"#46039f\"],[0.2222222222222222,\"#7201a8\"],[0.3333333333333333,\"#9c179e\"],[0.4444444444444444,\"#bd3786\"],[0.5555555555555556,\"#d8576b\"],[0.6666666666666666,\"#ed7953\"],[0.7777777777777778,\"#fb9f3a\"],[0.8888888888888888,\"#fdca26\"],[1.0,\"#f0f921\"]],\"sequentialminus\":[[0.0,\"#0d0887\"],[0.1111111111111111,\"#46039f\"],[0.2222222222222222,\"#7201a8\"],[0.3333333333333333,\"#9c179e\"],[0.4444444444444444,\"#bd3786\"],[0.5555555555555556,\"#d8576b\"],[0.6666666666666666,\"#ed7953\"],[0.7777777777777778,\"#fb9f3a\"],[0.8888888888888888,\"#fdca26\"],[1.0,\"#f0f921\"]],\"diverging\":[[0,\"#8e0152\"],[0.1,\"#c51b7d\"],[0.2,\"#de77ae\"],[0.3,\"#f1b6da\"],[0.4,\"#fde0ef\"],[0.5,\"#f7f7f7\"],[0.6,\"#e6f5d0\"],[0.7,\"#b8e186\"],[0.8,\"#7fbc41\"],[0.9,\"#4d9221\"],[1,\"#276419\"]]},\"xaxis\":{\"gridcolor\":\"white\",\"linecolor\":\"white\",\"ticks\":\"\",\"title\":{\"standoff\":15},\"zerolinecolor\":\"white\",\"automargin\":true,\"zerolinewidth\":2},\"yaxis\":{\"gridcolor\":\"white\",\"linecolor\":\"white\",\"ticks\":\"\",\"title\":{\"standoff\":15},\"zerolinecolor\":\"white\",\"automargin\":true,\"zerolinewidth\":2},\"scene\":{\"xaxis\":{\"backgroundcolor\":\"#E5ECF6\",\"gridcolor\":\"white\",\"linecolor\":\"white\",\"showbackground\":true,\"ticks\":\"\",\"zerolinecolor\":\"white\",\"gridwidth\":2},\"yaxis\":{\"backgroundcolor\":\"#E5ECF6\",\"gridcolor\":\"white\",\"linecolor\":\"white\",\"showbackground\":true,\"ticks\":\"\",\"zerolinecolor\":\"white\",\"gridwidth\":2},\"zaxis\":{\"backgroundcolor\":\"#E5ECF6\",\"gridcolor\":\"white\",\"linecolor\":\"white\",\"showbackground\":true,\"ticks\":\"\",\"zerolinecolor\":\"white\",\"gridwidth\":2}},\"shapedefaults\":{\"line\":{\"color\":\"#2a3f5f\"}},\"annotationdefaults\":{\"arrowcolor\":\"#2a3f5f\",\"arrowhead\":0,\"arrowwidth\":1},\"geo\":{\"bgcolor\":\"white\",\"landcolor\":\"#E5ECF6\",\"subunitcolor\":\"white\",\"showland\":true,\"showlakes\":true,\"lakecolor\":\"white\"},\"title\":{\"x\":0.05},\"mapbox\":{\"style\":\"light\"}}},\"scene\":{\"domain\":{\"x\":[0.0,1.0],\"y\":[0.0,1.0]},\"xaxis\":{\"title\":{\"text\":\"X\"}},\"yaxis\":{\"title\":{\"text\":\"Y\"}},\"zaxis\":{\"title\":{\"text\":\"Z\"}}},\"legend\":{\"tracegroupgap\":0},\"title\":{\"text\":\"Levantamiento Topogr\\u00e1fico 3D\"}},                        {\"responsive\": true}                    ).then(function(){\n",
              "                            \n",
              "var gd = document.getElementById('6f1d4648-a51b-4f95-b0d3-e44702250243');\n",
              "var x = new MutationObserver(function (mutations, observer) {{\n",
              "        var display = window.getComputedStyle(gd).display;\n",
              "        if (!display || display === 'none') {{\n",
              "            console.log([gd, 'removed!']);\n",
              "            Plotly.purge(gd);\n",
              "            observer.disconnect();\n",
              "        }}\n",
              "}});\n",
              "\n",
              "// Listen for the removal of the full notebook cells\n",
              "var notebookContainer = gd.closest('#notebook-container');\n",
              "if (notebookContainer) {{\n",
              "    x.observe(notebookContainer, {childList: true});\n",
              "}}\n",
              "\n",
              "// Listen for the clearing of the current output cell\n",
              "var outputEl = gd.closest('.output');\n",
              "if (outputEl) {{\n",
              "    x.observe(outputEl, {childList: true});\n",
              "}}\n",
              "\n",
              "                        })                };                            </script>        </div>\n",
              "</body>\n",
              "</html>"
            ]
          },
          "metadata": {}
        }
      ]
    },
    {
      "cell_type": "code",
      "source": [
        "import pandas as pd\n",
        "import sqlite3\n",
        "import plotly.express as px\n",
        "from google.colab import drive\n",
        "\n",
        "# Montar Google Drive\n",
        "drive.mount('/content/drive')\n",
        "\n",
        "# Ruta al archivo EXCEL en tu Google Drive\n",
        "excel_file_path = '/content/drive/MyDrive/Programación II/Proyecto semestral/Levantamiento.xlsx'\n",
        "\n",
        "# Leer el archivo EXCEL usando pandas\n",
        "data = pd.read_excel(excel_file_path)\n",
        "\n",
        "# Mostrar los nombres de las columnas\n",
        "print(data.columns)\n",
        "\n",
        "# Crear una conexión a la base de datos SQLite\n",
        "db_conn = sqlite3.connect('/content/drive/MyDrive/Programación II/Proyecto semestral/Proyecto Semestral.db')\n",
        "\n",
        "# Guardar los datos en una tabla en la base de datos SQLite\n",
        "data.to_sql('Levantamiento', db_conn, if_exists='replace', index=False)\n",
        "\n",
        "# Cerrar la conexión a la base de datos\n",
        "db_conn.close()\n",
        "\n",
        "# Volver a abrir la conexión para realizar consultas y graficar\n",
        "db_conn = sqlite3.connect('/content/drive/MyDrive/Programación II/Proyecto semestral/Proyecto Semestral.db')\n",
        "\n",
        "# Consulta SQL para obtener los datos de la tabla\n",
        "query = \"SELECT * FROM Levantamiento\"\n",
        "\n",
        "# Obtener los datos de la tabla en un DataFrame\n",
        "result = pd.read_sql(query, db_conn)\n",
        "\n",
        "# Cerrar la conexión a la base de datos\n",
        "db_conn.close()\n",
        "\n",
        "# Crear el gráfico 2D de dispersión con Plotly\n",
        "fig = px.scatter(result, x='X', y='Y', text='ID', title='Levantamiento Topográfico')\n",
        "\n",
        "# Reducir el tamaño del texto\n",
        "fig.update_traces(textfont=dict(size=9))\n",
        "\n",
        "# Añadir separación entre el texto y los puntos\n",
        "fig.update_traces(textposition='bottom center')\n",
        "\n",
        "# Mostrar el gráfico interactivo\n",
        "fig.show()\n",
        "\n",
        "# Crear el gráfico 3D de dispersión con Plotly\n",
        "fig = px.scatter_3d(result, x='X', y='Y', z='Z', text='ID', title='Levantamiento Topográfico 3D')\n",
        "\n",
        "# Reducir el tamaño del texto\n",
        "fig.update_traces(textfont=dict(size=9))\n",
        "\n",
        "# Añadir separación entre el texto y los puntos\n",
        "fig.update_traces(textposition='bottom center')\n",
        "\n",
        "# Mostrar el gráfico\n",
        "fig.show()"
      ],
      "metadata": {
        "colab": {
          "base_uri": "https://localhost:8080/",
          "height": 1000
        },
        "id": "oijxpT3qNMGN",
        "outputId": "c06a710a-f3ba-4dfa-c7cb-dde92aae6d20"
      },
      "execution_count": null,
      "outputs": [
        {
          "output_type": "stream",
          "name": "stdout",
          "text": [
            "Drive already mounted at /content/drive; to attempt to forcibly remount, call drive.mount(\"/content/drive\", force_remount=True).\n",
            "Index(['PUNTO', 'X', 'Y', 'Z', 'ID'], dtype='object')\n"
          ]
        },
        {
          "output_type": "display_data",
          "data": {
            "text/html": [
              "<html>\n",
              "<head><meta charset=\"utf-8\" /></head>\n",
              "<body>\n",
              "    <div>            <script src=\"https://cdnjs.cloudflare.com/ajax/libs/mathjax/2.7.5/MathJax.js?config=TeX-AMS-MML_SVG\"></script><script type=\"text/javascript\">if (window.MathJax && window.MathJax.Hub && window.MathJax.Hub.Config) {window.MathJax.Hub.Config({SVG: {font: \"STIX-Web\"}});}</script>                <script type=\"text/javascript\">window.PlotlyConfig = {MathJaxConfig: 'local'};</script>\n",
              "        <script charset=\"utf-8\" src=\"https://cdn.plot.ly/plotly-2.24.1.min.js\"></script>                <div id=\"b00ac17f-8282-44c0-9352-1e08f60d705f\" class=\"plotly-graph-div\" style=\"height:525px; width:100%;\"></div>            <script type=\"text/javascript\">                                    window.PLOTLYENV=window.PLOTLYENV || {};                                    if (document.getElementById(\"b00ac17f-8282-44c0-9352-1e08f60d705f\")) {                    Plotly.newPlot(                        \"b00ac17f-8282-44c0-9352-1e08f60d705f\",                        [{\"hovertemplate\":\"X=%{x}\\u003cbr\\u003eY=%{y}\\u003cbr\\u003eID=%{text}\\u003cextra\\u003e\\u003c\\u002fextra\\u003e\",\"legendgroup\":\"\",\"marker\":{\"color\":\"#636efa\",\"symbol\":\"circle\"},\"mode\":\"markers+text\",\"name\":\"\",\"orientation\":\"v\",\"showlegend\":false,\"text\":[\"EST1\",\"EST2\",\"PCR1\",\"PCR2\",\"CFE\",\"LIN\",\"TN\",\"TN\",\"TN\",\"ARE\",\"RIO\",\"RIO\",\"TN\",\"TN\",\"TN\",\"TN\",\"TN\",\"TN\",\"TN\",\"TN\",\"TN\",\"LIN\",\"LIN\",\"TN\",\"TN\",\"ARE\",\"ARE\",\"ARE\",\"ARE\",\"ARE\",\"ARE\",\"ARE\",\"TN\",\"TN\",\"TN\",\"ARE\",\"ARE\",\"RIO\",\"RIO\",\"ARE\",\"ARE\",\"ARE\",\"ARE\",\"TN\",\"TN\",\"ARE\",\"ARE\",\"ARE\",\"ARE\",\"ARE\",\"ARE\",\"ARE\",\"ARE\",\"ARE\",\"TN\",\"TN\",\"TN\",\"TN\",\"TN\",\"LIN\",\"LIN\",\"TN\",\"TN\",\"TN\",\"TN\",\"ARE\",\"ARE\",\"ARE\",\"ARE\",\"ARE\",\"TN\",\"ARE\",\"ARE\",\"ARE\",\"RIO\",\"ARE\",\"ARE\",\"ARE\",\"ARE\",\"ARE\",\"ARE\",\"ARE\",\"ARE\",\"ARE\",\"ARE\",\"ARE\",\"ARE\",\"ARE\",\"ARE\",\"ARE\",\"ARE\",\"ARE\",\"ARE\",\"ARE\",\"ARE\",\"ARE\",\"ARE\",\"ARE\",\"ARE\",\"ARE\",\"ARE\",\"ARE\",\"ARE\",\"ARE\",\"ARE\",\"ARE\",\"ARE\",\"ARE\",\"ARE\",\"ARE\",\"ARE\",\"ARE\"],\"x\":[1000.0,1069.506,987.762,1042.88,974.72,972.083,978.314,983.72,991.796,992.318,992.858,1005.931,1005.582,1005.11,1002.672,1000.826,995.454,991.827,989.311,988.657,987.543,987.46,1004.676,1005.433,1005.581,1009.681,1014.025,1016.705,1019.572,1022.197,1022.409,1023.725,1023.825,1025.16,1026.534,1027.146,1027.105,1027.027,1045.919,1045.836,1045.755,1045.283,1045.094,1042.507,1039.82,1039.047,1035.797,1035.545,1030.869,1028.992,1028.104,1027.866,1026.806,1023.25,1022.592,1019.598,1018.89,1017.311,1016.723,1015.839,1031.753,1032.341,1034.788,1036.623,1039.201,1041.769,1044.095,1049.408,1049.746,1053.05,1055.506,1057.113,1058.34,1058.679,1058.886,1004.8,1005.79,1005.766,1006.381,1007.686,1009.475,1009.426,1008.007,1008.571,1008.242,1007.637,1006.813,1006.56,1005.884,1004.993,1007.602,1005.646,1005.537,1004.684,1004.029,1003.138,1001.889,1001.438,1000.932,1000.026,996.87,996.657,996.48,998.545,999.802,998.742,997.956,996.972,996.353,996.639,994.922,995.353],\"xaxis\":\"x\",\"y\":[1000.0,1023.088,1020.114,1051.027,1008.646,1011.533,1001.779,989.649,973.201,970.797,969.943,972.828,974.308,976.343,984.985,991.161,1003.358,1009.364,1015.392,1016.962,1019.091,1021.955,1032.747,1031.026,1030.053,1022.208,1013.978,1009.238,1004.001,998.068,997.468,992.743,992.41,986.72,981.788,978.799,977.98,977.628,977.145,978.089,978.852,980.294,982.215,989.952,998.478,1000.635,1005.799,1006.464,1014.656,1018.323,1020.121,1020.92,1023.53,1029.316,1029.948,1034.613,1035.575,1037.784,1038.342,1039.631,1049.515,1048.338,1044.496,1042.366,1038.028,1033.456,1028.434,1016.238,1013.955,1006.467,997.796,984.99,983.204,981.564,981.017,993.059,992.974,992.091,993.592,991.706,991.544,992.663,993.255,994.941,997.524,997.178,996.311,998.842,998.563,997.686,1001.839,1002.181,1006.536,1005.879,1008.749,1008.072,1007.645,1011.488,1011.142,1010.115,1008.602,1009.818,1010.589,1010.805,1011.488,1013.503,1015.581,1016.451,1014.6,1013.583,1012.701,1012.104],\"yaxis\":\"y\",\"type\":\"scatter\",\"textfont\":{\"size\":9},\"textposition\":\"bottom center\"}],                        {\"template\":{\"data\":{\"histogram2dcontour\":[{\"type\":\"histogram2dcontour\",\"colorbar\":{\"outlinewidth\":0,\"ticks\":\"\"},\"colorscale\":[[0.0,\"#0d0887\"],[0.1111111111111111,\"#46039f\"],[0.2222222222222222,\"#7201a8\"],[0.3333333333333333,\"#9c179e\"],[0.4444444444444444,\"#bd3786\"],[0.5555555555555556,\"#d8576b\"],[0.6666666666666666,\"#ed7953\"],[0.7777777777777778,\"#fb9f3a\"],[0.8888888888888888,\"#fdca26\"],[1.0,\"#f0f921\"]]}],\"choropleth\":[{\"type\":\"choropleth\",\"colorbar\":{\"outlinewidth\":0,\"ticks\":\"\"}}],\"histogram2d\":[{\"type\":\"histogram2d\",\"colorbar\":{\"outlinewidth\":0,\"ticks\":\"\"},\"colorscale\":[[0.0,\"#0d0887\"],[0.1111111111111111,\"#46039f\"],[0.2222222222222222,\"#7201a8\"],[0.3333333333333333,\"#9c179e\"],[0.4444444444444444,\"#bd3786\"],[0.5555555555555556,\"#d8576b\"],[0.6666666666666666,\"#ed7953\"],[0.7777777777777778,\"#fb9f3a\"],[0.8888888888888888,\"#fdca26\"],[1.0,\"#f0f921\"]]}],\"heatmap\":[{\"type\":\"heatmap\",\"colorbar\":{\"outlinewidth\":0,\"ticks\":\"\"},\"colorscale\":[[0.0,\"#0d0887\"],[0.1111111111111111,\"#46039f\"],[0.2222222222222222,\"#7201a8\"],[0.3333333333333333,\"#9c179e\"],[0.4444444444444444,\"#bd3786\"],[0.5555555555555556,\"#d8576b\"],[0.6666666666666666,\"#ed7953\"],[0.7777777777777778,\"#fb9f3a\"],[0.8888888888888888,\"#fdca26\"],[1.0,\"#f0f921\"]]}],\"heatmapgl\":[{\"type\":\"heatmapgl\",\"colorbar\":{\"outlinewidth\":0,\"ticks\":\"\"},\"colorscale\":[[0.0,\"#0d0887\"],[0.1111111111111111,\"#46039f\"],[0.2222222222222222,\"#7201a8\"],[0.3333333333333333,\"#9c179e\"],[0.4444444444444444,\"#bd3786\"],[0.5555555555555556,\"#d8576b\"],[0.6666666666666666,\"#ed7953\"],[0.7777777777777778,\"#fb9f3a\"],[0.8888888888888888,\"#fdca26\"],[1.0,\"#f0f921\"]]}],\"contourcarpet\":[{\"type\":\"contourcarpet\",\"colorbar\":{\"outlinewidth\":0,\"ticks\":\"\"}}],\"contour\":[{\"type\":\"contour\",\"colorbar\":{\"outlinewidth\":0,\"ticks\":\"\"},\"colorscale\":[[0.0,\"#0d0887\"],[0.1111111111111111,\"#46039f\"],[0.2222222222222222,\"#7201a8\"],[0.3333333333333333,\"#9c179e\"],[0.4444444444444444,\"#bd3786\"],[0.5555555555555556,\"#d8576b\"],[0.6666666666666666,\"#ed7953\"],[0.7777777777777778,\"#fb9f3a\"],[0.8888888888888888,\"#fdca26\"],[1.0,\"#f0f921\"]]}],\"surface\":[{\"type\":\"surface\",\"colorbar\":{\"outlinewidth\":0,\"ticks\":\"\"},\"colorscale\":[[0.0,\"#0d0887\"],[0.1111111111111111,\"#46039f\"],[0.2222222222222222,\"#7201a8\"],[0.3333333333333333,\"#9c179e\"],[0.4444444444444444,\"#bd3786\"],[0.5555555555555556,\"#d8576b\"],[0.6666666666666666,\"#ed7953\"],[0.7777777777777778,\"#fb9f3a\"],[0.8888888888888888,\"#fdca26\"],[1.0,\"#f0f921\"]]}],\"mesh3d\":[{\"type\":\"mesh3d\",\"colorbar\":{\"outlinewidth\":0,\"ticks\":\"\"}}],\"scatter\":[{\"fillpattern\":{\"fillmode\":\"overlay\",\"size\":10,\"solidity\":0.2},\"type\":\"scatter\"}],\"parcoords\":[{\"type\":\"parcoords\",\"line\":{\"colorbar\":{\"outlinewidth\":0,\"ticks\":\"\"}}}],\"scatterpolargl\":[{\"type\":\"scatterpolargl\",\"marker\":{\"colorbar\":{\"outlinewidth\":0,\"ticks\":\"\"}}}],\"bar\":[{\"error_x\":{\"color\":\"#2a3f5f\"},\"error_y\":{\"color\":\"#2a3f5f\"},\"marker\":{\"line\":{\"color\":\"#E5ECF6\",\"width\":0.5},\"pattern\":{\"fillmode\":\"overlay\",\"size\":10,\"solidity\":0.2}},\"type\":\"bar\"}],\"scattergeo\":[{\"type\":\"scattergeo\",\"marker\":{\"colorbar\":{\"outlinewidth\":0,\"ticks\":\"\"}}}],\"scatterpolar\":[{\"type\":\"scatterpolar\",\"marker\":{\"colorbar\":{\"outlinewidth\":0,\"ticks\":\"\"}}}],\"histogram\":[{\"marker\":{\"pattern\":{\"fillmode\":\"overlay\",\"size\":10,\"solidity\":0.2}},\"type\":\"histogram\"}],\"scattergl\":[{\"type\":\"scattergl\",\"marker\":{\"colorbar\":{\"outlinewidth\":0,\"ticks\":\"\"}}}],\"scatter3d\":[{\"type\":\"scatter3d\",\"line\":{\"colorbar\":{\"outlinewidth\":0,\"ticks\":\"\"}},\"marker\":{\"colorbar\":{\"outlinewidth\":0,\"ticks\":\"\"}}}],\"scattermapbox\":[{\"type\":\"scattermapbox\",\"marker\":{\"colorbar\":{\"outlinewidth\":0,\"ticks\":\"\"}}}],\"scatterternary\":[{\"type\":\"scatterternary\",\"marker\":{\"colorbar\":{\"outlinewidth\":0,\"ticks\":\"\"}}}],\"scattercarpet\":[{\"type\":\"scattercarpet\",\"marker\":{\"colorbar\":{\"outlinewidth\":0,\"ticks\":\"\"}}}],\"carpet\":[{\"aaxis\":{\"endlinecolor\":\"#2a3f5f\",\"gridcolor\":\"white\",\"linecolor\":\"white\",\"minorgridcolor\":\"white\",\"startlinecolor\":\"#2a3f5f\"},\"baxis\":{\"endlinecolor\":\"#2a3f5f\",\"gridcolor\":\"white\",\"linecolor\":\"white\",\"minorgridcolor\":\"white\",\"startlinecolor\":\"#2a3f5f\"},\"type\":\"carpet\"}],\"table\":[{\"cells\":{\"fill\":{\"color\":\"#EBF0F8\"},\"line\":{\"color\":\"white\"}},\"header\":{\"fill\":{\"color\":\"#C8D4E3\"},\"line\":{\"color\":\"white\"}},\"type\":\"table\"}],\"barpolar\":[{\"marker\":{\"line\":{\"color\":\"#E5ECF6\",\"width\":0.5},\"pattern\":{\"fillmode\":\"overlay\",\"size\":10,\"solidity\":0.2}},\"type\":\"barpolar\"}],\"pie\":[{\"automargin\":true,\"type\":\"pie\"}]},\"layout\":{\"autotypenumbers\":\"strict\",\"colorway\":[\"#636efa\",\"#EF553B\",\"#00cc96\",\"#ab63fa\",\"#FFA15A\",\"#19d3f3\",\"#FF6692\",\"#B6E880\",\"#FF97FF\",\"#FECB52\"],\"font\":{\"color\":\"#2a3f5f\"},\"hovermode\":\"closest\",\"hoverlabel\":{\"align\":\"left\"},\"paper_bgcolor\":\"white\",\"plot_bgcolor\":\"#E5ECF6\",\"polar\":{\"bgcolor\":\"#E5ECF6\",\"angularaxis\":{\"gridcolor\":\"white\",\"linecolor\":\"white\",\"ticks\":\"\"},\"radialaxis\":{\"gridcolor\":\"white\",\"linecolor\":\"white\",\"ticks\":\"\"}},\"ternary\":{\"bgcolor\":\"#E5ECF6\",\"aaxis\":{\"gridcolor\":\"white\",\"linecolor\":\"white\",\"ticks\":\"\"},\"baxis\":{\"gridcolor\":\"white\",\"linecolor\":\"white\",\"ticks\":\"\"},\"caxis\":{\"gridcolor\":\"white\",\"linecolor\":\"white\",\"ticks\":\"\"}},\"coloraxis\":{\"colorbar\":{\"outlinewidth\":0,\"ticks\":\"\"}},\"colorscale\":{\"sequential\":[[0.0,\"#0d0887\"],[0.1111111111111111,\"#46039f\"],[0.2222222222222222,\"#7201a8\"],[0.3333333333333333,\"#9c179e\"],[0.4444444444444444,\"#bd3786\"],[0.5555555555555556,\"#d8576b\"],[0.6666666666666666,\"#ed7953\"],[0.7777777777777778,\"#fb9f3a\"],[0.8888888888888888,\"#fdca26\"],[1.0,\"#f0f921\"]],\"sequentialminus\":[[0.0,\"#0d0887\"],[0.1111111111111111,\"#46039f\"],[0.2222222222222222,\"#7201a8\"],[0.3333333333333333,\"#9c179e\"],[0.4444444444444444,\"#bd3786\"],[0.5555555555555556,\"#d8576b\"],[0.6666666666666666,\"#ed7953\"],[0.7777777777777778,\"#fb9f3a\"],[0.8888888888888888,\"#fdca26\"],[1.0,\"#f0f921\"]],\"diverging\":[[0,\"#8e0152\"],[0.1,\"#c51b7d\"],[0.2,\"#de77ae\"],[0.3,\"#f1b6da\"],[0.4,\"#fde0ef\"],[0.5,\"#f7f7f7\"],[0.6,\"#e6f5d0\"],[0.7,\"#b8e186\"],[0.8,\"#7fbc41\"],[0.9,\"#4d9221\"],[1,\"#276419\"]]},\"xaxis\":{\"gridcolor\":\"white\",\"linecolor\":\"white\",\"ticks\":\"\",\"title\":{\"standoff\":15},\"zerolinecolor\":\"white\",\"automargin\":true,\"zerolinewidth\":2},\"yaxis\":{\"gridcolor\":\"white\",\"linecolor\":\"white\",\"ticks\":\"\",\"title\":{\"standoff\":15},\"zerolinecolor\":\"white\",\"automargin\":true,\"zerolinewidth\":2},\"scene\":{\"xaxis\":{\"backgroundcolor\":\"#E5ECF6\",\"gridcolor\":\"white\",\"linecolor\":\"white\",\"showbackground\":true,\"ticks\":\"\",\"zerolinecolor\":\"white\",\"gridwidth\":2},\"yaxis\":{\"backgroundcolor\":\"#E5ECF6\",\"gridcolor\":\"white\",\"linecolor\":\"white\",\"showbackground\":true,\"ticks\":\"\",\"zerolinecolor\":\"white\",\"gridwidth\":2},\"zaxis\":{\"backgroundcolor\":\"#E5ECF6\",\"gridcolor\":\"white\",\"linecolor\":\"white\",\"showbackground\":true,\"ticks\":\"\",\"zerolinecolor\":\"white\",\"gridwidth\":2}},\"shapedefaults\":{\"line\":{\"color\":\"#2a3f5f\"}},\"annotationdefaults\":{\"arrowcolor\":\"#2a3f5f\",\"arrowhead\":0,\"arrowwidth\":1},\"geo\":{\"bgcolor\":\"white\",\"landcolor\":\"#E5ECF6\",\"subunitcolor\":\"white\",\"showland\":true,\"showlakes\":true,\"lakecolor\":\"white\"},\"title\":{\"x\":0.05},\"mapbox\":{\"style\":\"light\"}}},\"xaxis\":{\"anchor\":\"y\",\"domain\":[0.0,1.0],\"title\":{\"text\":\"X\"}},\"yaxis\":{\"anchor\":\"x\",\"domain\":[0.0,1.0],\"title\":{\"text\":\"Y\"}},\"legend\":{\"tracegroupgap\":0},\"title\":{\"text\":\"Levantamiento Topogr\\u00e1fico\"}},                        {\"responsive\": true}                    ).then(function(){\n",
              "                            \n",
              "var gd = document.getElementById('b00ac17f-8282-44c0-9352-1e08f60d705f');\n",
              "var x = new MutationObserver(function (mutations, observer) {{\n",
              "        var display = window.getComputedStyle(gd).display;\n",
              "        if (!display || display === 'none') {{\n",
              "            console.log([gd, 'removed!']);\n",
              "            Plotly.purge(gd);\n",
              "            observer.disconnect();\n",
              "        }}\n",
              "}});\n",
              "\n",
              "// Listen for the removal of the full notebook cells\n",
              "var notebookContainer = gd.closest('#notebook-container');\n",
              "if (notebookContainer) {{\n",
              "    x.observe(notebookContainer, {childList: true});\n",
              "}}\n",
              "\n",
              "// Listen for the clearing of the current output cell\n",
              "var outputEl = gd.closest('.output');\n",
              "if (outputEl) {{\n",
              "    x.observe(outputEl, {childList: true});\n",
              "}}\n",
              "\n",
              "                        })                };                            </script>        </div>\n",
              "</body>\n",
              "</html>"
            ]
          },
          "metadata": {}
        },
        {
          "output_type": "display_data",
          "data": {
            "text/html": [
              "<html>\n",
              "<head><meta charset=\"utf-8\" /></head>\n",
              "<body>\n",
              "    <div>            <script src=\"https://cdnjs.cloudflare.com/ajax/libs/mathjax/2.7.5/MathJax.js?config=TeX-AMS-MML_SVG\"></script><script type=\"text/javascript\">if (window.MathJax && window.MathJax.Hub && window.MathJax.Hub.Config) {window.MathJax.Hub.Config({SVG: {font: \"STIX-Web\"}});}</script>                <script type=\"text/javascript\">window.PlotlyConfig = {MathJaxConfig: 'local'};</script>\n",
              "        <script charset=\"utf-8\" src=\"https://cdn.plot.ly/plotly-2.24.1.min.js\"></script>                <div id=\"bc845072-df4a-4704-97ff-803be7ddf494\" class=\"plotly-graph-div\" style=\"height:525px; width:100%;\"></div>            <script type=\"text/javascript\">                                    window.PLOTLYENV=window.PLOTLYENV || {};                                    if (document.getElementById(\"bc845072-df4a-4704-97ff-803be7ddf494\")) {                    Plotly.newPlot(                        \"bc845072-df4a-4704-97ff-803be7ddf494\",                        [{\"hovertemplate\":\"X=%{x}\\u003cbr\\u003eY=%{y}\\u003cbr\\u003eZ=%{z}\\u003cbr\\u003eID=%{text}\\u003cextra\\u003e\\u003c\\u002fextra\\u003e\",\"legendgroup\":\"\",\"marker\":{\"color\":\"#636efa\",\"symbol\":\"circle\"},\"mode\":\"markers+text\",\"name\":\"\",\"scene\":\"scene\",\"showlegend\":false,\"text\":[\"EST1\",\"EST2\",\"PCR1\",\"PCR2\",\"CFE\",\"LIN\",\"TN\",\"TN\",\"TN\",\"ARE\",\"RIO\",\"RIO\",\"TN\",\"TN\",\"TN\",\"TN\",\"TN\",\"TN\",\"TN\",\"TN\",\"TN\",\"LIN\",\"LIN\",\"TN\",\"TN\",\"ARE\",\"ARE\",\"ARE\",\"ARE\",\"ARE\",\"ARE\",\"ARE\",\"TN\",\"TN\",\"TN\",\"ARE\",\"ARE\",\"RIO\",\"RIO\",\"ARE\",\"ARE\",\"ARE\",\"ARE\",\"TN\",\"TN\",\"ARE\",\"ARE\",\"ARE\",\"ARE\",\"ARE\",\"ARE\",\"ARE\",\"ARE\",\"ARE\",\"TN\",\"TN\",\"TN\",\"TN\",\"TN\",\"LIN\",\"LIN\",\"TN\",\"TN\",\"TN\",\"TN\",\"ARE\",\"ARE\",\"ARE\",\"ARE\",\"ARE\",\"TN\",\"ARE\",\"ARE\",\"ARE\",\"RIO\",\"ARE\",\"ARE\",\"ARE\",\"ARE\",\"ARE\",\"ARE\",\"ARE\",\"ARE\",\"ARE\",\"ARE\",\"ARE\",\"ARE\",\"ARE\",\"ARE\",\"ARE\",\"ARE\",\"ARE\",\"ARE\",\"ARE\",\"ARE\",\"ARE\",\"ARE\",\"ARE\",\"ARE\",\"ARE\",\"ARE\",\"ARE\",\"ARE\",\"ARE\",\"ARE\",\"ARE\",\"ARE\",\"ARE\",\"ARE\",\"ARE\",\"ARE\",\"ARE\"],\"x\":[1000.0,1069.506,987.762,1042.88,974.72,972.083,978.314,983.72,991.796,992.318,992.858,1005.931,1005.582,1005.11,1002.672,1000.826,995.454,991.827,989.311,988.657,987.543,987.46,1004.676,1005.433,1005.581,1009.681,1014.025,1016.705,1019.572,1022.197,1022.409,1023.725,1023.825,1025.16,1026.534,1027.146,1027.105,1027.027,1045.919,1045.836,1045.755,1045.283,1045.094,1042.507,1039.82,1039.047,1035.797,1035.545,1030.869,1028.992,1028.104,1027.866,1026.806,1023.25,1022.592,1019.598,1018.89,1017.311,1016.723,1015.839,1031.753,1032.341,1034.788,1036.623,1039.201,1041.769,1044.095,1049.408,1049.746,1053.05,1055.506,1057.113,1058.34,1058.679,1058.886,1004.8,1005.79,1005.766,1006.381,1007.686,1009.475,1009.426,1008.007,1008.571,1008.242,1007.637,1006.813,1006.56,1005.884,1004.993,1007.602,1005.646,1005.537,1004.684,1004.029,1003.138,1001.889,1001.438,1000.932,1000.026,996.87,996.657,996.48,998.545,999.802,998.742,997.956,996.972,996.353,996.639,994.922,995.353],\"y\":[1000.0,1023.088,1020.114,1051.027,1008.646,1011.533,1001.779,989.649,973.201,970.797,969.943,972.828,974.308,976.343,984.985,991.161,1003.358,1009.364,1015.392,1016.962,1019.091,1021.955,1032.747,1031.026,1030.053,1022.208,1013.978,1009.238,1004.001,998.068,997.468,992.743,992.41,986.72,981.788,978.799,977.98,977.628,977.145,978.089,978.852,980.294,982.215,989.952,998.478,1000.635,1005.799,1006.464,1014.656,1018.323,1020.121,1020.92,1023.53,1029.316,1029.948,1034.613,1035.575,1037.784,1038.342,1039.631,1049.515,1048.338,1044.496,1042.366,1038.028,1033.456,1028.434,1016.238,1013.955,1006.467,997.796,984.99,983.204,981.564,981.017,993.059,992.974,992.091,993.592,991.706,991.544,992.663,993.255,994.941,997.524,997.178,996.311,998.842,998.563,997.686,1001.839,1002.181,1006.536,1005.879,1008.749,1008.072,1007.645,1011.488,1011.142,1010.115,1008.602,1009.818,1010.589,1010.805,1011.488,1013.503,1015.581,1016.451,1014.6,1013.583,1012.701,1012.104],\"z\":[500.0,500.604,500.451,500.573,500.678,500.144,499.675,500.069,500.927,501.262,500.664,500.657,501.368,500.988,500.396,500.19,499.837,499.873,499.879,499.647,500.334,500.412,500.73,500.614,500.003,500.031,500.334,500.472,500.715,500.743,500.526,500.496,500.627,500.793,500.933,501.724,501.163,500.849,500.868,501.467,501.628,502.427,501.337,500.892,500.704,500.69,500.652,500.838,500.446,500.262,500.25,500.126,500.351,500.247,500.136,499.943,500.273,500.407,500.688,500.732,500.879,500.779,500.104,500.217,500.263,500.245,500.299,500.464,500.753,500.774,500.858,501.321,502.525,501.709,500.902,500.168,500.432,500.265,500.159,500.41,500.403,500.71,500.803,500.678,500.622,500.781,500.23,500.597,500.857,500.133,500.502,499.986,500.299,499.906,500.263,500.509,499.845,500.034,500.447,499.811,499.803,499.907,500.167,500.214,500.354,500.159,500.205,499.883,499.881,500.081,499.888,500.075],\"type\":\"scatter3d\",\"textfont\":{\"size\":9},\"textposition\":\"bottom center\"}],                        {\"template\":{\"data\":{\"histogram2dcontour\":[{\"type\":\"histogram2dcontour\",\"colorbar\":{\"outlinewidth\":0,\"ticks\":\"\"},\"colorscale\":[[0.0,\"#0d0887\"],[0.1111111111111111,\"#46039f\"],[0.2222222222222222,\"#7201a8\"],[0.3333333333333333,\"#9c179e\"],[0.4444444444444444,\"#bd3786\"],[0.5555555555555556,\"#d8576b\"],[0.6666666666666666,\"#ed7953\"],[0.7777777777777778,\"#fb9f3a\"],[0.8888888888888888,\"#fdca26\"],[1.0,\"#f0f921\"]]}],\"choropleth\":[{\"type\":\"choropleth\",\"colorbar\":{\"outlinewidth\":0,\"ticks\":\"\"}}],\"histogram2d\":[{\"type\":\"histogram2d\",\"colorbar\":{\"outlinewidth\":0,\"ticks\":\"\"},\"colorscale\":[[0.0,\"#0d0887\"],[0.1111111111111111,\"#46039f\"],[0.2222222222222222,\"#7201a8\"],[0.3333333333333333,\"#9c179e\"],[0.4444444444444444,\"#bd3786\"],[0.5555555555555556,\"#d8576b\"],[0.6666666666666666,\"#ed7953\"],[0.7777777777777778,\"#fb9f3a\"],[0.8888888888888888,\"#fdca26\"],[1.0,\"#f0f921\"]]}],\"heatmap\":[{\"type\":\"heatmap\",\"colorbar\":{\"outlinewidth\":0,\"ticks\":\"\"},\"colorscale\":[[0.0,\"#0d0887\"],[0.1111111111111111,\"#46039f\"],[0.2222222222222222,\"#7201a8\"],[0.3333333333333333,\"#9c179e\"],[0.4444444444444444,\"#bd3786\"],[0.5555555555555556,\"#d8576b\"],[0.6666666666666666,\"#ed7953\"],[0.7777777777777778,\"#fb9f3a\"],[0.8888888888888888,\"#fdca26\"],[1.0,\"#f0f921\"]]}],\"heatmapgl\":[{\"type\":\"heatmapgl\",\"colorbar\":{\"outlinewidth\":0,\"ticks\":\"\"},\"colorscale\":[[0.0,\"#0d0887\"],[0.1111111111111111,\"#46039f\"],[0.2222222222222222,\"#7201a8\"],[0.3333333333333333,\"#9c179e\"],[0.4444444444444444,\"#bd3786\"],[0.5555555555555556,\"#d8576b\"],[0.6666666666666666,\"#ed7953\"],[0.7777777777777778,\"#fb9f3a\"],[0.8888888888888888,\"#fdca26\"],[1.0,\"#f0f921\"]]}],\"contourcarpet\":[{\"type\":\"contourcarpet\",\"colorbar\":{\"outlinewidth\":0,\"ticks\":\"\"}}],\"contour\":[{\"type\":\"contour\",\"colorbar\":{\"outlinewidth\":0,\"ticks\":\"\"},\"colorscale\":[[0.0,\"#0d0887\"],[0.1111111111111111,\"#46039f\"],[0.2222222222222222,\"#7201a8\"],[0.3333333333333333,\"#9c179e\"],[0.4444444444444444,\"#bd3786\"],[0.5555555555555556,\"#d8576b\"],[0.6666666666666666,\"#ed7953\"],[0.7777777777777778,\"#fb9f3a\"],[0.8888888888888888,\"#fdca26\"],[1.0,\"#f0f921\"]]}],\"surface\":[{\"type\":\"surface\",\"colorbar\":{\"outlinewidth\":0,\"ticks\":\"\"},\"colorscale\":[[0.0,\"#0d0887\"],[0.1111111111111111,\"#46039f\"],[0.2222222222222222,\"#7201a8\"],[0.3333333333333333,\"#9c179e\"],[0.4444444444444444,\"#bd3786\"],[0.5555555555555556,\"#d8576b\"],[0.6666666666666666,\"#ed7953\"],[0.7777777777777778,\"#fb9f3a\"],[0.8888888888888888,\"#fdca26\"],[1.0,\"#f0f921\"]]}],\"mesh3d\":[{\"type\":\"mesh3d\",\"colorbar\":{\"outlinewidth\":0,\"ticks\":\"\"}}],\"scatter\":[{\"fillpattern\":{\"fillmode\":\"overlay\",\"size\":10,\"solidity\":0.2},\"type\":\"scatter\"}],\"parcoords\":[{\"type\":\"parcoords\",\"line\":{\"colorbar\":{\"outlinewidth\":0,\"ticks\":\"\"}}}],\"scatterpolargl\":[{\"type\":\"scatterpolargl\",\"marker\":{\"colorbar\":{\"outlinewidth\":0,\"ticks\":\"\"}}}],\"bar\":[{\"error_x\":{\"color\":\"#2a3f5f\"},\"error_y\":{\"color\":\"#2a3f5f\"},\"marker\":{\"line\":{\"color\":\"#E5ECF6\",\"width\":0.5},\"pattern\":{\"fillmode\":\"overlay\",\"size\":10,\"solidity\":0.2}},\"type\":\"bar\"}],\"scattergeo\":[{\"type\":\"scattergeo\",\"marker\":{\"colorbar\":{\"outlinewidth\":0,\"ticks\":\"\"}}}],\"scatterpolar\":[{\"type\":\"scatterpolar\",\"marker\":{\"colorbar\":{\"outlinewidth\":0,\"ticks\":\"\"}}}],\"histogram\":[{\"marker\":{\"pattern\":{\"fillmode\":\"overlay\",\"size\":10,\"solidity\":0.2}},\"type\":\"histogram\"}],\"scattergl\":[{\"type\":\"scattergl\",\"marker\":{\"colorbar\":{\"outlinewidth\":0,\"ticks\":\"\"}}}],\"scatter3d\":[{\"type\":\"scatter3d\",\"line\":{\"colorbar\":{\"outlinewidth\":0,\"ticks\":\"\"}},\"marker\":{\"colorbar\":{\"outlinewidth\":0,\"ticks\":\"\"}}}],\"scattermapbox\":[{\"type\":\"scattermapbox\",\"marker\":{\"colorbar\":{\"outlinewidth\":0,\"ticks\":\"\"}}}],\"scatterternary\":[{\"type\":\"scatterternary\",\"marker\":{\"colorbar\":{\"outlinewidth\":0,\"ticks\":\"\"}}}],\"scattercarpet\":[{\"type\":\"scattercarpet\",\"marker\":{\"colorbar\":{\"outlinewidth\":0,\"ticks\":\"\"}}}],\"carpet\":[{\"aaxis\":{\"endlinecolor\":\"#2a3f5f\",\"gridcolor\":\"white\",\"linecolor\":\"white\",\"minorgridcolor\":\"white\",\"startlinecolor\":\"#2a3f5f\"},\"baxis\":{\"endlinecolor\":\"#2a3f5f\",\"gridcolor\":\"white\",\"linecolor\":\"white\",\"minorgridcolor\":\"white\",\"startlinecolor\":\"#2a3f5f\"},\"type\":\"carpet\"}],\"table\":[{\"cells\":{\"fill\":{\"color\":\"#EBF0F8\"},\"line\":{\"color\":\"white\"}},\"header\":{\"fill\":{\"color\":\"#C8D4E3\"},\"line\":{\"color\":\"white\"}},\"type\":\"table\"}],\"barpolar\":[{\"marker\":{\"line\":{\"color\":\"#E5ECF6\",\"width\":0.5},\"pattern\":{\"fillmode\":\"overlay\",\"size\":10,\"solidity\":0.2}},\"type\":\"barpolar\"}],\"pie\":[{\"automargin\":true,\"type\":\"pie\"}]},\"layout\":{\"autotypenumbers\":\"strict\",\"colorway\":[\"#636efa\",\"#EF553B\",\"#00cc96\",\"#ab63fa\",\"#FFA15A\",\"#19d3f3\",\"#FF6692\",\"#B6E880\",\"#FF97FF\",\"#FECB52\"],\"font\":{\"color\":\"#2a3f5f\"},\"hovermode\":\"closest\",\"hoverlabel\":{\"align\":\"left\"},\"paper_bgcolor\":\"white\",\"plot_bgcolor\":\"#E5ECF6\",\"polar\":{\"bgcolor\":\"#E5ECF6\",\"angularaxis\":{\"gridcolor\":\"white\",\"linecolor\":\"white\",\"ticks\":\"\"},\"radialaxis\":{\"gridcolor\":\"white\",\"linecolor\":\"white\",\"ticks\":\"\"}},\"ternary\":{\"bgcolor\":\"#E5ECF6\",\"aaxis\":{\"gridcolor\":\"white\",\"linecolor\":\"white\",\"ticks\":\"\"},\"baxis\":{\"gridcolor\":\"white\",\"linecolor\":\"white\",\"ticks\":\"\"},\"caxis\":{\"gridcolor\":\"white\",\"linecolor\":\"white\",\"ticks\":\"\"}},\"coloraxis\":{\"colorbar\":{\"outlinewidth\":0,\"ticks\":\"\"}},\"colorscale\":{\"sequential\":[[0.0,\"#0d0887\"],[0.1111111111111111,\"#46039f\"],[0.2222222222222222,\"#7201a8\"],[0.3333333333333333,\"#9c179e\"],[0.4444444444444444,\"#bd3786\"],[0.5555555555555556,\"#d8576b\"],[0.6666666666666666,\"#ed7953\"],[0.7777777777777778,\"#fb9f3a\"],[0.8888888888888888,\"#fdca26\"],[1.0,\"#f0f921\"]],\"sequentialminus\":[[0.0,\"#0d0887\"],[0.1111111111111111,\"#46039f\"],[0.2222222222222222,\"#7201a8\"],[0.3333333333333333,\"#9c179e\"],[0.4444444444444444,\"#bd3786\"],[0.5555555555555556,\"#d8576b\"],[0.6666666666666666,\"#ed7953\"],[0.7777777777777778,\"#fb9f3a\"],[0.8888888888888888,\"#fdca26\"],[1.0,\"#f0f921\"]],\"diverging\":[[0,\"#8e0152\"],[0.1,\"#c51b7d\"],[0.2,\"#de77ae\"],[0.3,\"#f1b6da\"],[0.4,\"#fde0ef\"],[0.5,\"#f7f7f7\"],[0.6,\"#e6f5d0\"],[0.7,\"#b8e186\"],[0.8,\"#7fbc41\"],[0.9,\"#4d9221\"],[1,\"#276419\"]]},\"xaxis\":{\"gridcolor\":\"white\",\"linecolor\":\"white\",\"ticks\":\"\",\"title\":{\"standoff\":15},\"zerolinecolor\":\"white\",\"automargin\":true,\"zerolinewidth\":2},\"yaxis\":{\"gridcolor\":\"white\",\"linecolor\":\"white\",\"ticks\":\"\",\"title\":{\"standoff\":15},\"zerolinecolor\":\"white\",\"automargin\":true,\"zerolinewidth\":2},\"scene\":{\"xaxis\":{\"backgroundcolor\":\"#E5ECF6\",\"gridcolor\":\"white\",\"linecolor\":\"white\",\"showbackground\":true,\"ticks\":\"\",\"zerolinecolor\":\"white\",\"gridwidth\":2},\"yaxis\":{\"backgroundcolor\":\"#E5ECF6\",\"gridcolor\":\"white\",\"linecolor\":\"white\",\"showbackground\":true,\"ticks\":\"\",\"zerolinecolor\":\"white\",\"gridwidth\":2},\"zaxis\":{\"backgroundcolor\":\"#E5ECF6\",\"gridcolor\":\"white\",\"linecolor\":\"white\",\"showbackground\":true,\"ticks\":\"\",\"zerolinecolor\":\"white\",\"gridwidth\":2}},\"shapedefaults\":{\"line\":{\"color\":\"#2a3f5f\"}},\"annotationdefaults\":{\"arrowcolor\":\"#2a3f5f\",\"arrowhead\":0,\"arrowwidth\":1},\"geo\":{\"bgcolor\":\"white\",\"landcolor\":\"#E5ECF6\",\"subunitcolor\":\"white\",\"showland\":true,\"showlakes\":true,\"lakecolor\":\"white\"},\"title\":{\"x\":0.05},\"mapbox\":{\"style\":\"light\"}}},\"scene\":{\"domain\":{\"x\":[0.0,1.0],\"y\":[0.0,1.0]},\"xaxis\":{\"title\":{\"text\":\"X\"}},\"yaxis\":{\"title\":{\"text\":\"Y\"}},\"zaxis\":{\"title\":{\"text\":\"Z\"}}},\"legend\":{\"tracegroupgap\":0},\"title\":{\"text\":\"Levantamiento Topogr\\u00e1fico 3D\"}},                        {\"responsive\": true}                    ).then(function(){\n",
              "                            \n",
              "var gd = document.getElementById('bc845072-df4a-4704-97ff-803be7ddf494');\n",
              "var x = new MutationObserver(function (mutations, observer) {{\n",
              "        var display = window.getComputedStyle(gd).display;\n",
              "        if (!display || display === 'none') {{\n",
              "            console.log([gd, 'removed!']);\n",
              "            Plotly.purge(gd);\n",
              "            observer.disconnect();\n",
              "        }}\n",
              "}});\n",
              "\n",
              "// Listen for the removal of the full notebook cells\n",
              "var notebookContainer = gd.closest('#notebook-container');\n",
              "if (notebookContainer) {{\n",
              "    x.observe(notebookContainer, {childList: true});\n",
              "}}\n",
              "\n",
              "// Listen for the clearing of the current output cell\n",
              "var outputEl = gd.closest('.output');\n",
              "if (outputEl) {{\n",
              "    x.observe(outputEl, {childList: true});\n",
              "}}\n",
              "\n",
              "                        })                };                            </script>        </div>\n",
              "</body>\n",
              "</html>"
            ]
          },
          "metadata": {}
        }
      ]
    }
  ]
}